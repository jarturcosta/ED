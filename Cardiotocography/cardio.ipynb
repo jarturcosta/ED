{
 "cells": [
  {
   "cell_type": "heading",
   "metadata": {},
   "level": 1,
   "source": [
    "Introduction:"
   ]
  },
  {
   "cell_type": "markdown",
   "metadata": {},
   "source": [
    "In this Jupyter Notebook I developed the Data Mining of the Cardiotocography dataset available at https://archive.ics.uci.edu/ml/datasets/Cardiotocography"
   ]
  },
  {
   "cell_type": "markdown",
   "metadata": {},
   "source": [
    "In this first code block, I import the dataset that is given in the xlsx format (MS Office Excel).\n",
    "Since all the features in the dataset are already in a numeric format, there is no need to map categorical features into numeric ones.\n",
    "However, I converted the last feature (NSP), which corresponds to the fetal state, into binary by mapping the suspect(S=2) and pathologic(P=3) states into 1 and the normal(N=1) into 0."
   ]
  },
  {
   "cell_type": "heading",
   "metadata": {},
   "level": 1,
   "source": [
    "Pre-processing:"
   ]
  },
  {
   "cell_type": "code",
   "execution_count": 24,
   "metadata": {
    "collapsed": true
   },
   "outputs": [
    {
     "data": {
      "text/html": [
       "<div>\n",
       "<style scoped>\n",
       "    .dataframe tbody tr th:only-of-type {\n",
       "        vertical-align: middle;\n",
       "    }\n",
       "\n",
       "    .dataframe tbody tr th {\n",
       "        vertical-align: top;\n",
       "    }\n",
       "\n",
       "    .dataframe thead th {\n",
       "        text-align: right;\n",
       "    }\n",
       "</style>\n",
       "<table border=\"1\" class=\"dataframe\">\n",
       "  <thead>\n",
       "    <tr style=\"text-align: right;\">\n",
       "      <th></th>\n",
       "      <th>b</th>\n",
       "      <th>e</th>\n",
       "      <th>AC</th>\n",
       "      <th>FM</th>\n",
       "      <th>UC</th>\n",
       "      <th>DL</th>\n",
       "      <th>DS</th>\n",
       "      <th>DP</th>\n",
       "      <th>DR</th>\n",
       "      <th>LB</th>\n",
       "      <th>...</th>\n",
       "      <th>C</th>\n",
       "      <th>D</th>\n",
       "      <th>E</th>\n",
       "      <th>AD</th>\n",
       "      <th>DE</th>\n",
       "      <th>LD</th>\n",
       "      <th>FS</th>\n",
       "      <th>SUSP</th>\n",
       "      <th>CLASS</th>\n",
       "      <th>NSP</th>\n",
       "    </tr>\n",
       "  </thead>\n",
       "  <tbody>\n",
       "    <tr>\n",
       "      <th>0</th>\n",
       "      <td>240</td>\n",
       "      <td>357</td>\n",
       "      <td>0</td>\n",
       "      <td>0</td>\n",
       "      <td>0</td>\n",
       "      <td>0</td>\n",
       "      <td>0</td>\n",
       "      <td>0</td>\n",
       "      <td>0</td>\n",
       "      <td>120</td>\n",
       "      <td>...</td>\n",
       "      <td>-1</td>\n",
       "      <td>-1</td>\n",
       "      <td>-1</td>\n",
       "      <td>-1</td>\n",
       "      <td>-1</td>\n",
       "      <td>-1</td>\n",
       "      <td>1</td>\n",
       "      <td>-1</td>\n",
       "      <td>9</td>\n",
       "      <td>1</td>\n",
       "    </tr>\n",
       "    <tr>\n",
       "      <th>1</th>\n",
       "      <td>5</td>\n",
       "      <td>632</td>\n",
       "      <td>4</td>\n",
       "      <td>0</td>\n",
       "      <td>4</td>\n",
       "      <td>2</td>\n",
       "      <td>0</td>\n",
       "      <td>0</td>\n",
       "      <td>0</td>\n",
       "      <td>132</td>\n",
       "      <td>...</td>\n",
       "      <td>-1</td>\n",
       "      <td>-1</td>\n",
       "      <td>-1</td>\n",
       "      <td>1</td>\n",
       "      <td>-1</td>\n",
       "      <td>-1</td>\n",
       "      <td>-1</td>\n",
       "      <td>-1</td>\n",
       "      <td>6</td>\n",
       "      <td>0</td>\n",
       "    </tr>\n",
       "    <tr>\n",
       "      <th>2</th>\n",
       "      <td>177</td>\n",
       "      <td>779</td>\n",
       "      <td>2</td>\n",
       "      <td>0</td>\n",
       "      <td>5</td>\n",
       "      <td>2</td>\n",
       "      <td>0</td>\n",
       "      <td>0</td>\n",
       "      <td>0</td>\n",
       "      <td>133</td>\n",
       "      <td>...</td>\n",
       "      <td>-1</td>\n",
       "      <td>-1</td>\n",
       "      <td>-1</td>\n",
       "      <td>1</td>\n",
       "      <td>-1</td>\n",
       "      <td>-1</td>\n",
       "      <td>-1</td>\n",
       "      <td>-1</td>\n",
       "      <td>6</td>\n",
       "      <td>0</td>\n",
       "    </tr>\n",
       "    <tr>\n",
       "      <th>3</th>\n",
       "      <td>411</td>\n",
       "      <td>1192</td>\n",
       "      <td>2</td>\n",
       "      <td>0</td>\n",
       "      <td>6</td>\n",
       "      <td>2</td>\n",
       "      <td>0</td>\n",
       "      <td>0</td>\n",
       "      <td>0</td>\n",
       "      <td>134</td>\n",
       "      <td>...</td>\n",
       "      <td>-1</td>\n",
       "      <td>-1</td>\n",
       "      <td>-1</td>\n",
       "      <td>1</td>\n",
       "      <td>-1</td>\n",
       "      <td>-1</td>\n",
       "      <td>-1</td>\n",
       "      <td>-1</td>\n",
       "      <td>6</td>\n",
       "      <td>0</td>\n",
       "    </tr>\n",
       "    <tr>\n",
       "      <th>4</th>\n",
       "      <td>533</td>\n",
       "      <td>1147</td>\n",
       "      <td>4</td>\n",
       "      <td>0</td>\n",
       "      <td>5</td>\n",
       "      <td>0</td>\n",
       "      <td>0</td>\n",
       "      <td>0</td>\n",
       "      <td>0</td>\n",
       "      <td>132</td>\n",
       "      <td>...</td>\n",
       "      <td>-1</td>\n",
       "      <td>-1</td>\n",
       "      <td>-1</td>\n",
       "      <td>-1</td>\n",
       "      <td>-1</td>\n",
       "      <td>-1</td>\n",
       "      <td>-1</td>\n",
       "      <td>-1</td>\n",
       "      <td>2</td>\n",
       "      <td>0</td>\n",
       "    </tr>\n",
       "  </tbody>\n",
       "</table>\n",
       "<p>5 rows × 42 columns</p>\n",
       "</div>"
      ],
      "text/plain": [
       "<div>\n",
       "<style scoped>\n",
       "    .dataframe tbody tr th:only-of-type {\n",
       "        vertical-align: middle;\n",
       "    }\n",
       "\n",
       "    .dataframe tbody tr th {\n",
       "        vertical-align: top;\n",
       "    }\n",
       "\n",
       "    .dataframe thead th {\n",
       "        text-align: right;\n",
       "    }\n",
       "</style>\n",
       "<table border=\"1\" class=\"dataframe\">\n",
       "  <thead>\n",
       "    <tr style=\"text-align: right;\">\n",
       "      <th></th>\n",
       "      <th>b</th>\n",
       "      <th>e</th>\n",
       "      <th>AC</th>\n",
       "      <th>FM</th>\n",
       "      <th>UC</th>\n",
       "      <th>DL</th>\n",
       "      <th>DS</th>\n",
       "      <th>DP</th>\n",
       "      <th>DR</th>\n",
       "      <th>LB</th>\n",
       "      <th>...</th>\n",
       "      <th>C</th>\n",
       "      <th>D</th>\n",
       "      <th>E</th>\n",
       "      <th>AD</th>\n",
       "      <th>DE</th>\n",
       "      <th>LD</th>\n",
       "      <th>FS</th>\n",
       "      <th>SUSP</th>\n",
       "      <th>CLASS</th>\n",
       "      <th>NSP</th>\n",
       "    </tr>\n",
       "  </thead>\n",
       "  <tbody>\n",
       "    <tr>\n",
       "      <th>0</th>\n",
       "      <td>240</td>\n",
       "      <td>357</td>\n",
       "      <td>0</td>\n",
       "      <td>0</td>\n",
       "      <td>0</td>\n",
       "      <td>0</td>\n",
       "      <td>0</td>\n",
       "      <td>0</td>\n",
       "      <td>0</td>\n",
       "      <td>120</td>\n",
       "      <td>...</td>\n",
       "      <td>-1</td>\n",
       "      <td>-1</td>\n",
       "      <td>-1</td>\n",
       "      <td>-1</td>\n",
       "      <td>-1</td>\n",
       "      <td>-1</td>\n",
       "      <td>1</td>\n",
       "      <td>-1</td>\n",
       "      <td>9</td>\n",
       "      <td>1</td>\n",
       "    </tr>\n",
       "    <tr>\n",
       "      <th>1</th>\n",
       "      <td>5</td>\n",
       "      <td>632</td>\n",
       "      <td>4</td>\n",
       "      <td>0</td>\n",
       "      <td>4</td>\n",
       "      <td>2</td>\n",
       "      <td>0</td>\n",
       "      <td>0</td>\n",
       "      <td>0</td>\n",
       "      <td>132</td>\n",
       "      <td>...</td>\n",
       "      <td>-1</td>\n",
       "      <td>-1</td>\n",
       "      <td>-1</td>\n",
       "      <td>1</td>\n",
       "      <td>-1</td>\n",
       "      <td>-1</td>\n",
       "      <td>-1</td>\n",
       "      <td>-1</td>\n",
       "      <td>6</td>\n",
       "      <td>0</td>\n",
       "    </tr>\n",
       "    <tr>\n",
       "      <th>2</th>\n",
       "      <td>177</td>\n",
       "      <td>779</td>\n",
       "      <td>2</td>\n",
       "      <td>0</td>\n",
       "      <td>5</td>\n",
       "      <td>2</td>\n",
       "      <td>0</td>\n",
       "      <td>0</td>\n",
       "      <td>0</td>\n",
       "      <td>133</td>\n",
       "      <td>...</td>\n",
       "      <td>-1</td>\n",
       "      <td>-1</td>\n",
       "      <td>-1</td>\n",
       "      <td>1</td>\n",
       "      <td>-1</td>\n",
       "      <td>-1</td>\n",
       "      <td>-1</td>\n",
       "      <td>-1</td>\n",
       "      <td>6</td>\n",
       "      <td>0</td>\n",
       "    </tr>\n",
       "    <tr>\n",
       "      <th>3</th>\n",
       "      <td>411</td>\n",
       "      <td>1192</td>\n",
       "      <td>2</td>\n",
       "      <td>0</td>\n",
       "      <td>6</td>\n",
       "      <td>2</td>\n",
       "      <td>0</td>\n",
       "      <td>0</td>\n",
       "      <td>0</td>\n",
       "      <td>134</td>\n",
       "      <td>...</td>\n",
       "      <td>-1</td>\n",
       "      <td>-1</td>\n",
       "      <td>-1</td>\n",
       "      <td>1</td>\n",
       "      <td>-1</td>\n",
       "      <td>-1</td>\n",
       "      <td>-1</td>\n",
       "      <td>-1</td>\n",
       "      <td>6</td>\n",
       "      <td>0</td>\n",
       "    </tr>\n",
       "    <tr>\n",
       "      <th>4</th>\n",
       "      <td>533</td>\n",
       "      <td>1147</td>\n",
       "      <td>4</td>\n",
       "      <td>0</td>\n",
       "      <td>5</td>\n",
       "      <td>0</td>\n",
       "      <td>0</td>\n",
       "      <td>0</td>\n",
       "      <td>0</td>\n",
       "      <td>132</td>\n",
       "      <td>...</td>\n",
       "      <td>-1</td>\n",
       "      <td>-1</td>\n",
       "      <td>-1</td>\n",
       "      <td>-1</td>\n",
       "      <td>-1</td>\n",
       "      <td>-1</td>\n",
       "      <td>-1</td>\n",
       "      <td>-1</td>\n",
       "      <td>2</td>\n",
       "      <td>0</td>\n",
       "    </tr>\n",
       "  </tbody>\n",
       "</table>\n",
       "<p>5 rows × 42 columns</p>\n",
       "</div>"
      ]
     },
     "execution_count": 24,
     "metadata": {},
     "output_type": "execute_result"
    }
   ],
   "source": [
    "import numpy as np\n",
    "import pandas as pd\n",
    "import matplotlib.pyplot as plt\n",
    "import warnings\n",
    "warnings.filterwarnings('ignore')\n",
    "\n",
    "data = pd.read_excel('Cardiotocography/CTG.xlsx','Data',header=1)\n",
    "data.head()\n",
    "\n",
    "mappings = {}\n",
    "mappings['NSP'] = {1:0, 2:1, 3:1}\n",
    "\n",
    "for k in mappings:\n",
    "    data[k] = data[k].map(mappings[k])\n",
    "\n",
    "data.head()\n",
    "\n",
    "\n",
    "\n",
    "\n"
   ]
  },
  {
   "cell_type": "markdown",
   "metadata": {},
   "source": []
  },
  {
   "cell_type": "markdown",
   "metadata": {},
   "source": []
  },
  {
   "cell_type": "code",
   "execution_count": 25,
   "metadata": {},
   "outputs": [
    {
     "data": {
      "text/plain": [
       "array([[-0.71423878, -1.44609109, -0.76473985, ...,  5.45999947,\n        -0.31957073,  1.48376361],\n       [-0.97713923, -1.15061462,  0.35885166, ..., -0.1831502 ,\n        -0.31957073,  0.49241181],\n       [-0.78471847, -0.99266902, -0.20294409, ..., -0.1831502 ,\n        -0.31957073,  0.49241181],\n       ...,\n       [ 0.78037828,  0.95962458, -0.48384197, ..., -0.1831502 ,\n        -0.31957073,  0.16196121],\n       [ 0.78037828,  1.4463549 , -0.48384197, ..., -0.1831502 ,\n        -0.31957073,  0.16196121],\n       [ 2.1452232 ,  1.83960721, -0.48384197, ..., -0.1831502 ,\n        -0.31957073, -1.15984119]])"
      ]
     },
     "execution_count": 25,
     "metadata": {},
     "output_type": "execute_result"
    }
   ],
   "source": [
    "from sklearn.preprocessing import StandardScaler\n",
    "from sklearn.decomposition import PCA\n",
    "y=data.as_matrix(columns=[data.columns[-1]])\n",
    "X=data.as_matrix(columns=data.columns[:-1])\n",
    "\n",
    "sc = StandardScaler()\n",
    "X = sc.fit_transform(X)\n",
    "X"
   ]
  },
  {
   "cell_type": "markdown",
   "metadata": {},
   "source": [
    "Now, the pre-processing phase is completed by doing the dimension reduction with the PCA procedure.\n",
    "By not limiting the number of components within the PCA() function arguments, I noticed that the explained variance ratio after 15 principal components was not relevant, so Ilimited the ammount of components by 15.\n",
    "The lowest explained varience ration found in the dataset after the dimension reduction was about 0.03."
   ]
  },
  {
   "cell_type": "code",
   "execution_count": 26,
   "metadata": {
    "collapsed": true
   },
   "outputs": [
    {
     "name": "stdout",
     "output_type": "stream",
     "text": [
      "Lowest explained variance ratio: 0.023393460206440925\n"
     ]
    }
   ],
   "source": [
    "pca = PCA(n_components=15)\n",
    "X = pca.fit_transform(X)\n",
    "\n",
    "plt.bar(range(15), pca.explained_variance_ratio_, alpha=0.5, align='center')\n",
    "plt.step(range(15), np.cumsum(pca.explained_variance_ratio_), where='mid')\n",
    "plt.ylabel('Explained variance ratio')\n",
    "plt.xlabel('Principal components')\n",
    "plt.show()\n",
    "\n",
    "\n",
    "print(\"Lowest explained variance ratio: \" + str(pca.explained_variance_ratio_[-1]))\n"
   ]
  },
  {
   "cell_type": "heading",
   "metadata": {},
   "level": 1,
   "source": [
    "Predictive-Model:"
   ]
  },
  {
   "cell_type": "markdown",
   "metadata": {},
   "source": []
  },
  {
   "cell_type": "code",
   "execution_count": 27,
   "metadata": {
    "collapsed": true
   },
   "outputs": [
    {
     "name": "stdout",
     "output_type": "stream",
     "text": [
      "SVM classifier:\nAccuracy (Score): 0.9812206572769953\nPrecision: 0.9893617021276596\nRecall: 0.93\nTime (s): 0.009947776794433594\n\nMLP classifier:\nAccuracy (Score): 0.9788732394366197\nPrecision: 0.9690721649484536\nRecall: 0.94\nTime (s): 0.036878347396850586\n\nLinear SVM classifier:\nAccuracy (Score): 0.9765258215962441\nPrecision: 0.9787234042553191\nRecall: 0.92\nTime (s): 0.02921605110168457\n\nBagging classifier:\nAccuracy (Score): 0.9765258215962441\nPrecision: 0.9787234042553191\nRecall: 0.92\nTime (s): 0.07081031799316406\n"
     ]
    }
   ],
   "source": [
    "import time\n",
    "\n",
    "from distutils.version import LooseVersion as Version\n",
    "from sklearn import __version__ as sklearn_version\n",
    "from sklearn.model_selection import train_test_split\n",
    "\n",
    "from numpy import linalg as LA\n",
    "from matplotlib.colors import ListedColormap\n",
    "from sklearn.svm import LinearSVC\n",
    "from sklearn.svm import SVC\n",
    "from sklearn.linear_model import Perceptron\n",
    "from sklearn.ensemble import RandomForestClassifier, BaggingClassifier\n",
    "from sklearn.linear_model import SGDClassifier\n",
    "from sklearn.metrics import *\n",
    "from sklearn.neural_network import MLPClassifier\n",
    "X_train, X_test, y_train, y_test = train_test_split(X, y, test_size=0.2, random_state=0)\n",
    "\n",
    "\n",
    "start = time.time()\n",
    "svm_class=SVC(C=4, max_iter=120000, tol=1e-03, kernel=\"poly\", degree=3)\n",
    "svm_class = svm_class.fit(X_train,y_train)\n",
    "prediction_svm = svm_class.predict(X_test)\n",
    "end = time.time()\n",
    "print(\"SVM classifier:\")\n",
    "print(\"Accuracy (Score): {}\".format(accuracy_score(y_test, prediction_svm)))\n",
    "print(\"Precision: {}\".format(precision_score(y_test, prediction_svm)))\n",
    "print(\"Recall: {}\".format(recall_score(y_test, prediction_svm)))\n",
    "print(\"Time (s): {}\".format(end-start))\n",
    "\n",
    "start = time.time()\n",
    "mlp_class = MLPClassifier(activation='tanh', hidden_layer_sizes=(10,), solver='lbfgs')\n",
    "prediction_mlp = mlp_class.fit(X_train,y_train).predict(X_test)\n",
    "end = time.time()\n",
    "print(\"\\nMLP classifier:\")\n",
    "print(\"Accuracy (Score): {}\".format(accuracy_score(y_test, prediction_mlp)))\n",
    "print(\"Precision: {}\".format(precision_score(y_test, prediction_mlp)))\n",
    "print(\"Recall: {}\".format(recall_score(y_test, prediction_mlp)))\n",
    "print(\"Time (s): {}\".format(end-start))\n",
    "\n",
    "start = time.time()\n",
    "svm_linear_class=LinearSVC(C=1, max_iter=30000, tol=1e-03)\n",
    "svm_linear_class = svm_linear_class.fit(X_train,y_train)\n",
    "prediction_svm_linear = svm_linear_class.predict(X_test)\n",
    "end = time.time()\n",
    "print(\"\\nLinear SVM classifier:\")\n",
    "print(\"Accuracy (Score): {}\".format(accuracy_score(y_test, prediction_svm_linear)))\n",
    "print(\"Precision: {}\".format(precision_score(y_test, prediction_svm_linear)))\n",
    "print(\"Recall: {}\".format(recall_score(y_test, prediction_svm_linear)))\n",
    "print(\"Time (s): {}\".format(end-start))\n",
    "\n",
    "start = time.time()\n",
    "bagging_class=BaggingClassifier(n_estimators=15, max_features=0.5, random_state=1512)\n",
    "bagging_class = bagging_class.fit(X_train,y_train)\n",
    "prediction_bagging = bagging_class.predict(X_test)\n",
    "end = time.time()\n",
    "print(\"\\nBagging classifier:\")\n",
    "print(\"Accuracy (Score): {}\".format(accuracy_score(y_test, prediction_svm_linear)))\n",
    "print(\"Precision: {}\".format(precision_score(y_test, prediction_svm_linear)))\n",
    "print(\"Recall: {}\".format(recall_score(y_test, prediction_svm_linear)))\n",
    "print(\"Time (s): {}\".format(end-start))"
   ]
  },
  {
   "cell_type": "markdown",
   "metadata": {},
   "source": [
    ""
   ]
  },
  {
   "cell_type": "markdown",
   "metadata": {},
   "source": [
    "Now, I determine wich are the best hyperparameters for the Linear and Non-Linear SVM (using the polynomial kernel function) and the respectives scores.\n",
    "I varied the C hyperparameter which determines how much the SVM optimization will avoid misclassifying each training example.\n",
    "For this I made several trainings, for several C values to see which was the best case scenario.\n",
    "I also set a for each training a tolerance of stopping criteria of 1*10^-8, and noticed the optimal C value was much lower for the non-linear SVM with the polynomial function"
   ]
  },
  {
   "cell_type": "code",
   "execution_count": 29,
   "metadata": {},
   "outputs": [
    {
     "name": "stdout",
     "output_type": "stream",
     "text": [
      "Best hyperparameters for Linear SVM: C=30, with a score of 0.9859154929577465\nBest hyperparameters for SVM with polynomial function: C=3 with a score of 0.9835680751173709\n"
     ]
    }
   ],
   "source": [
    "C=[3, 6, 9, 12, 15, 18, 21, 24, 27, 30, 33, 36, 150]\n",
    "\n",
    "highest_score = 0\n",
    "best_C = None\n",
    "for c in C:\n",
    "    test = LinearSVC(C=c, tol=1e-8).fit(X_train, y_train)\n",
    "    score = test.score(X_test, y_test)\n",
    "    if  score > highest_score:\n",
    "        best_C = c\n",
    "        highest_score = score\n",
    "            \n",
    "print(\"Best hyperparameters for Linear SVM: C={}, with a score of {}\".format(best_C, highest_score))\n",
    "\n",
    "\n",
    "highest_score = 0\n",
    "best_C = None\n",
    "for c in C:\n",
    "    test = SVC(C=c, tol=1e-8, kernel='poly').fit(X_train, y_train)\n",
    "    score = test.score(X_test, y_test)\n",
    "    if score > highest_score:\n",
    "        best_C = c\n",
    "        highest_score = score\n",
    "            \n",
    "print(\"Best hyperparameters for SVM with polynomial function: C={} with a score of {}\".format(best_C, highest_score))\n",
    "\n"
   ]
  },
  {
   "cell_type": "heading",
   "metadata": {},
   "level": 1,
   "source": [
    "Evaluation"
   ]
  },
  {
   "cell_type": "markdown",
   "metadata": {},
   "source": [
    "In the following steps, I will use nested cross-validation techinques to determine thescore for diferent classifiers.\n",
    "For this case I estimated the model's performance with the Grid Search Cross Validation, in wich I passed different parameter grids to determine the best way to train the model.\n",
    "After defining the parameter grids for each case, I created the Grid Search CV object passing a Classifier as the"
   ]
  },
  {
   "cell_type": "code",
   "execution_count": 6,
   "metadata": {},
   "outputs": [
    {
     "name": "stdout",
     "output_type": "stream",
     "text": [
      "Best MLP Score: 0.9313264346190028\nBest MLP Params: {'activation': 'relu', 'alpha': 0.0001, 'batch_size': 'auto', 'beta_1': 0.9, 'beta_2': 0.999, 'early_stopping': False, 'epsilon': 1e-08, 'hidden_layer_sizes': (50,), 'learning_rate': 'constant', 'learning_rate_init': 0.001, 'max_iter': 200, 'momentum': 0.9, 'n_iter_no_change': 10, 'nesterovs_momentum': True, 'power_t': 0.5, 'random_state': None, 'shuffle': True, 'solver': 'lbfgs', 'tol': 0.0001, 'validation_fraction': 0.1, 'verbose': False, 'warm_start': False}\n"
     ]
    }
   ],
   "source": [
    "grid_mlp_params = [{'hidden_layer_sizes': [(d, ) for d in [5, 10, 25, 50]], 'activation': ['relu', 'tanh', 'logistic', 'identity']}]\n",
    "grid_search_mlp = GridSearchCV(estimator=MLPClassifier(solver=\"lbfgs\"), param_grid=grid_mlp_params, cv=3)\n",
    "grid_search_mlp.fit(X, y)\n",
    "print(\"Best MLP Score: {}\".format(grid_search_mlp.best_score_))\n",
    "print(\"Best MLP Params: {}\".format(grid_search_mlp.best_estimator_.get_params()))"
   ]
  },
  {
   "cell_type": "code",
   "execution_count": 32,
   "metadata": {},
   "outputs": [
    {
     "name": "stdout",
     "output_type": "stream",
     "text": [
      "Random state:  15977\nBest Bagging Score: 0.9586077140169332\nBest Bagging Params: {'base_estimator': None, 'bootstrap': False, 'bootstrap_features': False, 'max_features': 0.5, 'max_samples': 1.0, 'n_estimators': 15, 'n_jobs': None, 'oob_score': False, 'random_state': 15977, 'verbose': 0, 'warm_start': False}\n"
     ]
    }
   ],
   "source": [
    "import random\n",
    "\n",
    "from sklearn.tree import DecisionTreeClassifier\n",
    "\n",
    "random_state = random.randint(1,99999)\n",
    "grid_bagging_params = [{'n_estimators':[2,5,10,15,20],'max_features':[0.25,0.5,1],'bootstrap':[True,False],'n_jobs':[None,2,3],'random_state':[random_state,None]}]\n",
    "grid_search_bagging = GridSearchCV(estimator=BaggingClassifier(), param_grid=grid_bagging_params)\n",
    "grid_search_bagging.fit(X, y)\n",
    "print(\"Best Bagging Score: {}\".format(grid_search_bagging.best_score_))\n",
    "print(\"Best Bagging Params: {}\".format(grid_search_bagging.best_estimator_.get_params()))"
   ]
  },
  {
   "cell_type": "markdown",
   "metadata": {},
   "source": [
    "At the end, we get "
   ]
  },
  {
   "cell_type": "code",
   "execution_count": 30,
   "metadata": {
    "collapsed": false
   },
   "outputs": [],
   "source": [
    ""
   ]
  },
  {
   "cell_type": "code",
   "execution_count": null,
   "metadata": {},
   "outputs": [],
   "source": []
  }
 ],
 "metadata": {
  "kernelspec": {
   "display_name": "Python 2",
   "language": "python",
   "name": "python2"
  },
  "language_info": {
   "codemirror_mode": {
    "name": "ipython",
    "version": 2
   },
   "file_extension": ".py",
   "mimetype": "text/x-python",
   "name": "python",
   "nbconvert_exporter": "python",
   "pygments_lexer": "ipython2",
   "version": "2.7.6"
  }
 },
 "nbformat": 4,
 "nbformat_minor": 0
}
